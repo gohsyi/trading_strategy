{
 "cells": [
  {
   "cell_type": "markdown",
   "metadata": {},
   "source": [
    "## Test my codes"
   ]
  },
  {
   "cell_type": "markdown",
   "metadata": {},
   "source": [
    "### Test env.py"
   ]
  },
  {
   "cell_type": "code",
   "execution_count": 2,
   "metadata": {},
   "outputs": [
    {
     "data": {
      "text/plain": [
       "['/usr/share/anaconda3/lib/python3.6/site-packages/ipykernel_launcher.py',\n",
       " '-f',\n",
       " '/run/user/1005/jupyter/kernel-f7781f38-e39a-4652-9824-818ef19396bd.json']"
      ]
     },
     "execution_count": 2,
     "metadata": {},
     "output_type": "execute_result"
    }
   ],
   "source": [
    "import sys\n",
    "sys.argv"
   ]
  },
  {
   "cell_type": "code",
   "execution_count": 1,
   "metadata": {},
   "outputs": [],
   "source": [
    "from common.argparser import args\n",
    "\n",
    "from env import Env\n",
    "\n",
    "\n",
    "env = Env(args.train_path)"
   ]
  },
  {
   "cell_type": "code",
   "execution_count": 4,
   "metadata": {
    "scrolled": true
   },
   "outputs": [
    {
     "name": "stdout",
     "output_type": "stream",
     "text": [
      "([0, 0.0], 0.0, False, None)\n",
      "([0, 0.0, 0.0], 0.0, False, None)\n",
      "([0, 0.0, 0.0, -1.0], -1.0, False, None)\n",
      "([0, 0.0, 0.0, -1.0, -0.0], -0.0, False, None)\n"
     ]
    }
   ],
   "source": [
    "obs = env.reset()\n",
    "print(env.step(1))\n",
    "print(env.step(1))\n",
    "print(env.step(-1))\n",
    "print(env.step(-1))"
   ]
  }
 ],
 "metadata": {
  "kernelspec": {
   "display_name": "Python 3",
   "language": "python",
   "name": "python3"
  },
  "language_info": {
   "codemirror_mode": {
    "name": "ipython",
    "version": 3
   },
   "file_extension": ".py",
   "mimetype": "text/x-python",
   "name": "python",
   "nbconvert_exporter": "python",
   "pygments_lexer": "ipython3",
   "version": "3.6.8"
  }
 },
 "nbformat": 4,
 "nbformat_minor": 2
}
